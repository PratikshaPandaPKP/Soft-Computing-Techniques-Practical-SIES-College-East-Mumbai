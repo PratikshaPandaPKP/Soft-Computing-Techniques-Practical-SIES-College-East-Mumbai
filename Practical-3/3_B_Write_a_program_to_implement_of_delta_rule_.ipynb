{
  "nbformat": 4,
  "nbformat_minor": 0,
  "metadata": {
    "colab": {
      "provenance": []
    },
    "kernelspec": {
      "name": "python3",
      "display_name": "Python 3"
    },
    "language_info": {
      "name": "python"
    }
  },
  "cells": [
    {
      "cell_type": "code",
      "execution_count": null,
      "metadata": {
        "colab": {
          "base_uri": "https://localhost:8080/"
        },
        "id": "b7Y3w2QZY27n",
        "outputId": "e62b1f93-66b3-4a83-c6da-9ec27ff0314e"
      },
      "outputs": [
        {
          "output_type": "stream",
          "name": "stdout",
          "text": [
            "Epoch 1\n",
            "Input: [1, 1], Target: 1, Output: 1\n",
            "Updated weights: [0.0, 0.0], Updated bias: 0.0\n",
            "\n",
            "Input: [1, 0], Target: 0, Output: 1\n",
            "Updated weights: [-0.1, 0.0], Updated bias: -0.1\n",
            "\n",
            "Input: [0, 1], Target: 0, Output: 0\n",
            "Updated weights: [-0.1, 0.0], Updated bias: -0.1\n",
            "\n",
            "Input: [0, 0], Target: 0, Output: 0\n",
            "Updated weights: [-0.1, 0.0], Updated bias: -0.1\n",
            "\n",
            "Epoch 2\n",
            "Input: [1, 1], Target: 1, Output: 0\n",
            "Updated weights: [0.0, 0.1], Updated bias: 0.0\n",
            "\n",
            "Input: [1, 0], Target: 0, Output: 1\n",
            "Updated weights: [-0.1, 0.1], Updated bias: -0.1\n",
            "\n",
            "Input: [0, 1], Target: 0, Output: 1\n",
            "Updated weights: [-0.1, 0.0], Updated bias: -0.2\n",
            "\n",
            "Input: [0, 0], Target: 0, Output: 0\n",
            "Updated weights: [-0.1, 0.0], Updated bias: -0.2\n",
            "\n",
            "Epoch 3\n",
            "Input: [1, 1], Target: 1, Output: 0\n",
            "Updated weights: [0.0, 0.1], Updated bias: -0.1\n",
            "\n",
            "Input: [1, 0], Target: 0, Output: 0\n",
            "Updated weights: [0.0, 0.1], Updated bias: -0.1\n",
            "\n",
            "Input: [0, 1], Target: 0, Output: 1\n",
            "Updated weights: [0.0, 0.0], Updated bias: -0.2\n",
            "\n",
            "Input: [0, 0], Target: 0, Output: 0\n",
            "Updated weights: [0.0, 0.0], Updated bias: -0.2\n",
            "\n",
            "Final weights: [0.0, 0.0]\n",
            "Final bias: -0.2\n"
          ]
        }
      ],
      "source": [
        "# Define the input data and target output for an AND gate\n",
        "input_data = [\n",
        "    [1, 1],\n",
        "    [1, 0],\n",
        "    [0, 1],\n",
        "    [0, 0]\n",
        "]\n",
        "target_output = [1, 0, 0, 0]  # Target outputs for AND gate\n",
        "\n",
        "# Initialize weights, bias, and learning rate\n",
        "weights = [0.0, 0.0]  # Start with zero weights\n",
        "bias = 0.0\n",
        "learning_rate = 0.1  # Controls how much the weights update each time\n",
        "\n",
        "# Training loop (3 epochs for simplicity)\n",
        "for epoch in range(3):\n",
        "    print(f\"Epoch {epoch + 1}\")\n",
        "\n",
        "    for i, inputs in enumerate(input_data):\n",
        "        # Calculate weighted sum\n",
        "        weighted_sum = inputs[0] * weights[0] + inputs[1] * weights[1] + bias\n",
        "        # Activation function (1 if weighted sum is positive, otherwise 0)\n",
        "        output = 1 if weighted_sum >= 0 else 0\n",
        "        # Calculate the error (difference between target and output)\n",
        "        error = target_output[i] - output\n",
        "\n",
        "        # Update weights and bias using Delta Rule\n",
        "        weights[0] += learning_rate * error * inputs[0]\n",
        "        weights[1] += learning_rate * error * inputs[1]\n",
        "        bias += learning_rate * error\n",
        "\n",
        "        print(f\"Input: {inputs}, Target: {target_output[i]}, Output: {output}\")\n",
        "        print(f\"Updated weights: {weights}, Updated bias: {bias}\\n\")\n",
        "\n",
        "print(\"Final weights:\", weights)\n",
        "print(\"Final bias:\", bias)\n"
      ]
    }
  ]
}