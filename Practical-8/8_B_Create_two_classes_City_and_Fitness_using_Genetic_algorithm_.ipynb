{
  "nbformat": 4,
  "nbformat_minor": 0,
  "metadata": {
    "colab": {
      "provenance": []
    },
    "kernelspec": {
      "name": "python3",
      "display_name": "Python 3"
    },
    "language_info": {
      "name": "python"
    }
  },
  "cells": [
    {
      "cell_type": "code",
      "execution_count": 1,
      "metadata": {
        "colab": {
          "base_uri": "https://localhost:8080/"
        },
        "id": "WyU2GXLTwQxE",
        "outputId": "1d71e355-74a7-4baf-8557-9fbdd8f33618"
      },
      "outputs": [
        {
          "output_type": "stream",
          "name": "stdout",
          "text": [
            "Route 1 - Fitness: 0.0010335963708894198, Distance: 967.50\n",
            "Path: [City(14, 114), City(11, 127), City(37, 39), City(182, 162), City(178, 194), City(77, 6), City(53, 177), City(94, 173), City(29, 195), City(0, 86)]\n",
            "Route 2 - Fitness: 0.0009554027798159902, Distance: 1046.68\n",
            "Path: [City(14, 114), City(77, 6), City(29, 195), City(37, 39), City(11, 127), City(178, 194), City(182, 162), City(94, 173), City(53, 177), City(0, 86)]\n",
            "Route 3 - Fitness: 0.000874926144975569, Distance: 1142.95\n",
            "Path: [City(182, 162), City(77, 6), City(94, 173), City(37, 39), City(14, 114), City(53, 177), City(11, 127), City(29, 195), City(0, 86), City(178, 194)]\n",
            "Route 4 - Fitness: 0.0008315002300850271, Distance: 1202.65\n",
            "Path: [City(37, 39), City(29, 195), City(11, 127), City(178, 194), City(94, 173), City(0, 86), City(77, 6), City(182, 162), City(53, 177), City(14, 114)]\n",
            "Route 5 - Fitness: 0.0008055771265092802, Distance: 1241.35\n",
            "Path: [City(14, 114), City(37, 39), City(53, 177), City(182, 162), City(0, 86), City(94, 173), City(178, 194), City(29, 195), City(11, 127), City(77, 6)]\n"
          ]
        }
      ],
      "source": [
        "import random\n",
        "import math\n",
        "\n",
        "# Define the City class\n",
        "class City:\n",
        "    def __init__(self, x, y):\n",
        "        \"\"\"Initialize a city with x and y coordinates.\"\"\"\n",
        "        self.x = x\n",
        "        self.y = y\n",
        "\n",
        "    def distance(self, city):\n",
        "        \"\"\"Calculate Euclidean distance to another city.\"\"\"\n",
        "        x_dist = abs(self.x - city.x)\n",
        "        y_dist = abs(self.y - city.y)\n",
        "        return math.sqrt(x_dist ** 2 + y_dist ** 2)\n",
        "\n",
        "    def __repr__(self):\n",
        "        return f\"City({self.x}, {self.y})\"\n",
        "\n",
        "# Define the Fitness class\n",
        "class Fitness:\n",
        "    def __init__(self, route):\n",
        "        \"\"\"Initialize with a route and calculate the fitness.\"\"\"\n",
        "        self.route = route\n",
        "        self.distance = 0\n",
        "        self.fitness = 0.0\n",
        "\n",
        "    def route_distance(self):\n",
        "        \"\"\"Calculate the total distance of the route.\"\"\"\n",
        "        if self.distance == 0:\n",
        "            total_distance = 0\n",
        "            for i in range(len(self.route)):\n",
        "                from_city = self.route[i]\n",
        "                to_city = self.route[(i + 1) % len(self.route)]\n",
        "                total_distance += from_city.distance(to_city)\n",
        "            self.distance = total_distance\n",
        "        return self.distance\n",
        "\n",
        "    def route_fitness(self):\n",
        "        \"\"\"Calculate fitness as the inverse of the distance.\"\"\"\n",
        "        if self.fitness == 0:\n",
        "            self.fitness = 1 / float(self.route_distance())\n",
        "        return self.fitness\n",
        "\n",
        "# Example setup for the Genetic Algorithm\n",
        "def create_route(city_list):\n",
        "    \"\"\"Create a random route (a random permutation of cities).\"\"\"\n",
        "    return random.sample(city_list, len(city_list))\n",
        "\n",
        "def initial_population(pop_size, city_list):\n",
        "    \"\"\"Generate a population of routes.\"\"\"\n",
        "    return [create_route(city_list) for _ in range(pop_size)]\n",
        "\n",
        "def rank_routes(population):\n",
        "    \"\"\"Rank routes based on fitness.\"\"\"\n",
        "    fitness_results = {i: Fitness(route).route_fitness() for i, route in enumerate(population)}\n",
        "    return sorted(fitness_results.items(), key=lambda x: x[1], reverse=True)\n",
        "\n",
        "# Testing the classes with random cities\n",
        "city_list = [City(x=random.randint(0, 200), y=random.randint(0, 200)) for _ in range(10)]\n",
        "population = initial_population(pop_size=5, city_list=city_list)\n",
        "\n",
        "# Display the ranked routes with fitness\n",
        "ranked_routes = rank_routes(population)\n",
        "for i, (route_index, fitness) in enumerate(ranked_routes):\n",
        "    print(f\"Route {i+1} - Fitness: {fitness}, Distance: {1/fitness:.2f}\")\n",
        "    print(\"Path:\", population[route_index])\n"
      ]
    }
  ]
}