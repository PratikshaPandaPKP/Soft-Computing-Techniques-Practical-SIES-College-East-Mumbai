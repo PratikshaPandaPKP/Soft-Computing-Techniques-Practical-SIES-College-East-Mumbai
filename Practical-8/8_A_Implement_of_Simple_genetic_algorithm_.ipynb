{
  "nbformat": 4,
  "nbformat_minor": 0,
  "metadata": {
    "colab": {
      "provenance": []
    },
    "kernelspec": {
      "name": "python3",
      "display_name": "Python 3"
    },
    "language_info": {
      "name": "python"
    }
  },
  "cells": [
    {
      "cell_type": "code",
      "execution_count": 1,
      "metadata": {
        "colab": {
          "base_uri": "https://localhost:8080/"
        },
        "id": "AUc_HIqor_Qg",
        "outputId": "0563d3aa-e62a-412f-fc50-7699233d651a"
      },
      "outputs": [
        {
          "output_type": "stream",
          "name": "stdout",
          "text": [
            "Generation 1 Best Fitness: 5\n",
            "Generation 2 Best Fitness: 6\n",
            "Generation 3 Best Fitness: 6\n",
            "Generation 4 Best Fitness: 6\n",
            "Generation 5 Best Fitness: 6\n",
            "Generation 6 Best Fitness: 6\n",
            "Generation 7 Best Fitness: 6\n",
            "Generation 8 Best Fitness: 6\n",
            "Generation 9 Best Fitness: 6\n",
            "Generation 10 Best Fitness: 6\n",
            "\n",
            "Best Individual: [1, 1, 1, 1, 1, 1]\n",
            "Best Fitness: 6\n"
          ]
        }
      ],
      "source": [
        "import random\n",
        "\n",
        "# Define parameters\n",
        "population_size = 10   # Number of individuals in the population\n",
        "chromosome_length = 6  # Length of each individual (binary string)\n",
        "generations = 10       # Number of generations to run the algorithm\n",
        "mutation_rate = 0.1    # Probability of mutation\n",
        "\n",
        "# Helper functions\n",
        "def create_individual():\n",
        "    \"\"\"Creates a random individual (binary string).\"\"\"\n",
        "    return [random.randint(0, 1) for _ in range(chromosome_length)]\n",
        "\n",
        "def create_population():\n",
        "    \"\"\"Creates an initial population.\"\"\"\n",
        "    return [create_individual() for _ in range(population_size)]\n",
        "\n",
        "def fitness(individual):\n",
        "    \"\"\"Calculates the fitness of an individual (sum of 1s in the binary string).\"\"\"\n",
        "    return sum(individual)\n",
        "\n",
        "def select_parents(population):\n",
        "    \"\"\"Selects two parents using tournament selection.\"\"\"\n",
        "    tournament = random.sample(population, 3)\n",
        "    parent1 = max(tournament, key=fitness)\n",
        "    tournament = random.sample(population, 3)\n",
        "    parent2 = max(tournament, key=fitness)\n",
        "    return parent1, parent2\n",
        "\n",
        "def crossover(parent1, parent2):\n",
        "    \"\"\"Performs crossover between two parents to create two children.\"\"\"\n",
        "    point = random.randint(1, chromosome_length - 1)\n",
        "    child1 = parent1[:point] + parent2[point:]\n",
        "    child2 = parent2[:point] + parent1[point:]\n",
        "    return child1, child2\n",
        "\n",
        "def mutate(individual):\n",
        "    \"\"\"Mutates an individual by flipping bits with a given probability.\"\"\"\n",
        "    for i in range(chromosome_length):\n",
        "        if random.random() < mutation_rate:\n",
        "            individual[i] = 1 - individual[i]  # Flip the bit (0->1, 1->0)\n",
        "    return individual\n",
        "\n",
        "# Genetic Algorithm\n",
        "population = create_population()\n",
        "for generation in range(generations):\n",
        "    # Evaluate fitness of current population\n",
        "    population = sorted(population, key=fitness, reverse=True)\n",
        "    print(f\"Generation {generation + 1} Best Fitness: {fitness(population[0])}\")\n",
        "\n",
        "    # Create a new generation\n",
        "    new_population = population[:2]  # Elitism: carry over top 2 individuals\n",
        "    while len(new_population) < population_size:\n",
        "        parent1, parent2 = select_parents(population)\n",
        "        child1, child2 = crossover(parent1, parent2)\n",
        "        new_population.append(mutate(child1))\n",
        "        new_population.append(mutate(child2))\n",
        "\n",
        "    population = new_population\n",
        "\n",
        "# Display the best individual\n",
        "best_individual = max(population, key=fitness)\n",
        "print(\"\\nBest Individual:\", best_individual)\n",
        "print(\"Best Fitness:\", fitness(best_individual))\n"
      ]
    }
  ]
}