{
  "nbformat": 4,
  "nbformat_minor": 0,
  "metadata": {
    "colab": {
      "provenance": []
    },
    "kernelspec": {
      "name": "python3",
      "display_name": "Python 3"
    },
    "language_info": {
      "name": "python"
    }
  },
  "cells": [
    {
      "cell_type": "code",
      "execution_count": 1,
      "metadata": {
        "colab": {
          "base_uri": "https://localhost:8080/"
        },
        "id": "d8ArMcmDuY3n",
        "outputId": "3b9b0a19-abc8-4caa-ab2d-7d0882a37a6f"
      },
      "outputs": [
        {
          "output_type": "stream",
          "name": "stdout",
          "text": [
            "Enter value of x.4\n",
            "Entervalue of weight w.2\n",
            "Enter value of bias b.1\n",
            "net= 9\n",
            "output= 1\n"
          ]
        }
      ],
      "source": [
        "x=float(input(\"Enter value of x.\"))\n",
        "w=float(input(\"Entervalue of weight w.\"))\n",
        "b=float(input(\"Enter value of bias b.\"))\n",
        "net = int(w*x+b)\n",
        "if(net<0):\n",
        " out=0\n",
        "elif((net>=0)&(net<=1)):\n",
        " out = net\n",
        "else:\n",
        " out=1\n",
        " print(\"net=\",net)\n",
        " print(\"output=\",out)\n"
      ]
    }
  ]
}