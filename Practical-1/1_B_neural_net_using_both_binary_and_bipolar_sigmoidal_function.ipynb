{
  "nbformat": 4,
  "nbformat_minor": 0,
  "metadata": {
    "colab": {
      "provenance": []
    },
    "kernelspec": {
      "name": "python3",
      "display_name": "Python 3"
    },
    "language_info": {
      "name": "python"
    }
  },
  "cells": [
    {
      "cell_type": "code",
      "source": [
        "import numpy as np\n",
        "\n",
        "# Define input, weight, and bias\n",
        "input_val = 0.7\n",
        "weight = 0.5\n",
        "bias = -0.2\n",
        "\n",
        "# Function for binary sigmoid activation\n",
        "def binary_sigmoid(x):\n",
        "    return 1 / (1 + np.exp(-x))\n",
        "\n",
        "# Function for bipolar sigmoid activation\n",
        "def bipolar_sigmoid(x):\n",
        "    return (2 / (1 + np.exp(-x))) - 1\n",
        "\n",
        "# Calculate the neuron input (weighted sum + bias)\n",
        "neuron_input = (input_val * weight) + bias\n",
        "\n",
        "# Calculate outputs for both activation functions\n",
        "output_binary_sigmoid = binary_sigmoid(neuron_input)\n",
        "output_bipolar_sigmoid = bipolar_sigmoid(neuron_input)\n",
        "\n",
        "# Display the results\n",
        "print(\"Neuron Input:\", neuron_input)\n",
        "print(\"Output with Binary Sigmoid Activation:\", output_binary_sigmoid)\n",
        "print(\"Output with Bipolar Sigmoid Activation:\", output_bipolar_sigmoid)\n"
      ],
      "metadata": {
        "colab": {
          "base_uri": "https://localhost:8080/"
        },
        "id": "fit4VGJDyIT3",
        "outputId": "8f0cda67-d413-4fde-f6ff-f958cdc9df8e"
      },
      "execution_count": null,
      "outputs": [
        {
          "output_type": "stream",
          "name": "stdout",
          "text": [
            "Neuron Input: 0.14999999999999997\n",
            "Output with Binary Sigmoid Activation: 0.5374298453437496\n",
            "Output with Bipolar Sigmoid Activation: 0.0748596906874992\n"
          ]
        }
      ]
    }
  ]
}