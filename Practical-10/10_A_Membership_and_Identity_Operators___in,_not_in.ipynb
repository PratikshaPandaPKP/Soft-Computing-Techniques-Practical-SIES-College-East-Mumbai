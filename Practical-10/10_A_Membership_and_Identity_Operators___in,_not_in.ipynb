{
  "nbformat": 4,
  "nbformat_minor": 0,
  "metadata": {
    "colab": {
      "provenance": []
    },
    "kernelspec": {
      "name": "python3",
      "display_name": "Python 3"
    },
    "language_info": {
      "name": "python"
    }
  },
  "cells": [
    {
      "cell_type": "code",
      "execution_count": 1,
      "metadata": {
        "colab": {
          "base_uri": "https://localhost:8080/"
        },
        "id": "cXKM5S1y828f",
        "outputId": "803f3115-5851-4fc1-ac88-9e418fe4d7f9"
      },
      "outputs": [
        {
          "output_type": "stream",
          "name": "stdout",
          "text": [
            "Enter a fruit to check: apple\n",
            "Apple is in the list of fruits.\n",
            "Yes, Apple is present in the list.\n"
          ]
        }
      ],
      "source": [
        "def check_membership():\n",
        "    fruits = [\"apple\", \"banana\", \"cherry\"]\n",
        "\n",
        "    # Taking user input\n",
        "    fruit_to_check = input(\"Enter a fruit to check: \")\n",
        "\n",
        "    # Using 'in' operator\n",
        "    if fruit_to_check in fruits:\n",
        "        print(f\"{fruit_to_check.capitalize()} is in the list of fruits.\")\n",
        "    else:\n",
        "        print(f\"{fruit_to_check.capitalize()} is not in the list of fruits.\")\n",
        "\n",
        "    # Using 'not in' operator\n",
        "    if fruit_to_check not in fruits:\n",
        "        print(f\"{fruit_to_check.capitalize()} is definitely not in the list.\")\n",
        "    else:\n",
        "        print(f\"Yes, {fruit_to_check.capitalize()} is present in the list.\")\n",
        "\n",
        "if __name__ == \"__main__\":\n",
        "    check_membership()"
      ]
    }
  ]
}