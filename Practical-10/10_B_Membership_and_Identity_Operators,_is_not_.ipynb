{
  "nbformat": 4,
  "nbformat_minor": 0,
  "metadata": {
    "colab": {
      "provenance": []
    },
    "kernelspec": {
      "name": "python3",
      "display_name": "Python 3"
    },
    "language_info": {
      "name": "python"
    }
  },
  "cells": [
    {
      "cell_type": "code",
      "source": [
        "x = 5\n",
        "y = 5\n",
        "z = 10\n",
        "\n",
        "# Using `is` to check if they refer to the same object\n",
        "print(x is y)\n",
        "print(x is z)\n",
        "\n",
        "# Using `is not` to check if they are not the same object\n",
        "print(x is not z)\n",
        "\n"
      ],
      "metadata": {
        "colab": {
          "base_uri": "https://localhost:8080/"
        },
        "id": "f009IIgeHjcL",
        "outputId": "5ca6c2a2-18cf-40b6-ad53-153b31540cf1"
      },
      "execution_count": 7,
      "outputs": [
        {
          "output_type": "stream",
          "name": "stdout",
          "text": [
            "True\n",
            "False\n",
            "True\n"
          ]
        }
      ]
    }
  ]
}