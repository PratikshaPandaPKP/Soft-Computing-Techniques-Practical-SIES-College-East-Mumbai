{
  "nbformat": 4,
  "nbformat_minor": 0,
  "metadata": {
    "colab": {
      "provenance": []
    },
    "kernelspec": {
      "name": "python3",
      "display_name": "Python 3"
    },
    "language_info": {
      "name": "python"
    }
  },
  "cells": [
    {
      "cell_type": "code",
      "source": [
        "# Define lists of heights for two groups (in cm)\n",
        "group_A = [150, 155, 160, 165, 170]  # Short group\n",
        "group_B = [170, 175, 180, 185, 190]  # Tall group\n",
        "\n",
        "# Step 1: Define basic membership functions\n",
        "def short(height):\n",
        "    if height <= 160:\n",
        "        return 1  # Fully short\n",
        "    elif height < 170:\n",
        "        return 0.5  # Partially short\n",
        "    else:\n",
        "        return 0  # Not short\n",
        "\n",
        "def tall(height):\n",
        "    if height >= 180:\n",
        "        return 1  # Fully tall\n",
        "    elif height > 170:\n",
        "        return 0.5  # Partially tall\n",
        "    else:\n",
        "        return 0  # Not tall\n",
        "\n",
        "# Step 2: Apply membership functions to each height in the groups\n",
        "short_scores = [short(h) for h in group_A]\n",
        "tall_scores = [tall(h) for h in group_B]\n",
        "\n",
        "# Step 3: Calculate fuzzy ratio (sum of short scores / sum of tall scores)\n",
        "if sum(tall_scores) == 0:\n",
        "    fuzzy_ratio = float('inf')  # Avoid division by zero\n",
        "else:\n",
        "    fuzzy_ratio = sum(short_scores) / sum(tall_scores)\n",
        "\n",
        "# Display the result\n",
        "print(\"Fuzzy ratio (shortness of Group A vs tallness of Group B):\", fuzzy_ratio)\n"
      ],
      "metadata": {
        "colab": {
          "base_uri": "https://localhost:8080/"
        },
        "id": "a-kIXjTH7qZe",
        "outputId": "d8d1db49-c11c-4ae7-acd1-3e67b962786e"
      },
      "execution_count": 2,
      "outputs": [
        {
          "output_type": "stream",
          "name": "stdout",
          "text": [
            "Fuzzy ratio (shortness of Group A vs tallness of Group B): 1.0\n"
          ]
        }
      ]
    }
  ]
}