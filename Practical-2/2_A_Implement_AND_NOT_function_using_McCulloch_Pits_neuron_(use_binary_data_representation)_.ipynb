{
  "nbformat": 4,
  "nbformat_minor": 0,
  "metadata": {
    "colab": {
      "provenance": []
    },
    "kernelspec": {
      "name": "python3",
      "display_name": "Python 3"
    },
    "language_info": {
      "name": "python"
    }
  },
  "cells": [
    {
      "cell_type": "code",
      "execution_count": null,
      "metadata": {
        "colab": {
          "base_uri": "https://localhost:8080/"
        },
        "id": "HBkA1bMYzN0C",
        "outputId": "670b594b-0fc5-4624-9d82-9454a9cf701e"
      },
      "outputs": [
        {
          "output_type": "stream",
          "name": "stdout",
          "text": [
            "AND Gate\n",
            "0 AND 0: 0\n",
            "0 AND 1: 0\n",
            "1 AND 0: 0\n",
            "1 AND 1: 1\n",
            "\n",
            "NOT Gate\n",
            "NOT 0: 1\n",
            "NOT 1: 0\n"
          ]
        }
      ],
      "source": [
        "# Function for the McCulloch-Pitts neuron\n",
        "def mcCulloch_pitts_neuron(inputs, weights, threshold):\n",
        "    weighted_sum = sum(i * w for i, w in zip(inputs, weights))\n",
        "    return 1 if weighted_sum >= threshold else 0\n",
        "\n",
        "# AND Function\n",
        "def AND_gate(input1, input2):\n",
        "    weights = [1, 1]\n",
        "    threshold = 2\n",
        "    return mcCulloch_pitts_neuron([input1, input2], weights, threshold)\n",
        "\n",
        "# NOT Function\n",
        "def NOT_gate(input1):\n",
        "    weights = [-1]\n",
        "    threshold = 0\n",
        "    return mcCulloch_pitts_neuron([input1], weights, threshold)\n",
        "\n",
        "# Testing the AND Gate\n",
        "print(\"AND Gate\")\n",
        "print(\"0 AND 0:\", AND_gate(0, 0))\n",
        "print(\"0 AND 1:\", AND_gate(0, 1))\n",
        "print(\"1 AND 0:\", AND_gate(1, 0))\n",
        "print(\"1 AND 1:\", AND_gate(1, 1))\n",
        "\n",
        "# Testing the NOT Gate\n",
        "print(\"\\nNOT Gate\")\n",
        "print(\"NOT 0:\", NOT_gate(0))\n",
        "print(\"NOT 1:\", NOT_gate(1))\n"
      ]
    }
  ]
}