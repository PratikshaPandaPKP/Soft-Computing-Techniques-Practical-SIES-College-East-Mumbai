{
  "nbformat": 4,
  "nbformat_minor": 0,
  "metadata": {
    "colab": {
      "provenance": []
    },
    "kernelspec": {
      "name": "python3",
      "display_name": "Python 3"
    },
    "language_info": {
      "name": "python"
    }
  },
  "cells": [
    {
      "cell_type": "code",
      "execution_count": 1,
      "metadata": {
        "colab": {
          "base_uri": "https://localhost:8080/"
        },
        "id": "bK3leJidSDmz",
        "outputId": "d5e7193a-51e5-4eeb-b3f6-9cf6b867807b"
      },
      "outputs": [
        {
          "output_type": "stream",
          "name": "stdout",
          "text": [
            "XOR Gate\n",
            "0 XOR 0: 0\n",
            "0 XOR 1: 1\n",
            "1 XOR 0: 1\n",
            "1 XOR 1: 0\n"
          ]
        }
      ],
      "source": [
        "# Define the McCulloch-Pitts neuron function\n",
        "def mcCulloch_pitts_neuron(inputs, weights, threshold):\n",
        "    weighted_sum = sum(i * w for i, w in zip(inputs, weights))\n",
        "    return 1 if weighted_sum >= threshold else 0\n",
        "\n",
        "# AND Gate\n",
        "def AND_gate(input1, input2):\n",
        "    weights = [1, 1]\n",
        "    threshold = 2\n",
        "    return mcCulloch_pitts_neuron([input1, input2], weights, threshold)\n",
        "\n",
        "# OR Gate\n",
        "def OR_gate(input1, input2):\n",
        "    weights = [1, 1]\n",
        "    threshold = 1\n",
        "    return mcCulloch_pitts_neuron([input1, input2], weights, threshold)\n",
        "\n",
        "# NOT Gate\n",
        "def NOT_gate(input1):\n",
        "    weights = [-1]\n",
        "    threshold = 0\n",
        "    return mcCulloch_pitts_neuron([input1], weights, threshold)\n",
        "\n",
        "# XOR Gate\n",
        "def XOR_gate(input1, input2):\n",
        "    # Step 1: A AND B\n",
        "    and_result = AND_gate(input1, input2)\n",
        "    # Step 2: A OR B\n",
        "    or_result = OR_gate(input1, input2)\n",
        "    # Step 3: NOT (A AND B)\n",
        "    not_and_result = NOT_gate(and_result)\n",
        "    # Step 4: (A OR B) AND (NOT (A AND B))\n",
        "    xor_result = AND_gate(or_result, not_and_result)\n",
        "    return xor_result\n",
        "\n",
        "# Testing the XOR Gate\n",
        "print(\"XOR Gate\")\n",
        "print(\"0 XOR 0:\", XOR_gate(0, 0))\n",
        "print(\"0 XOR 1:\", XOR_gate(0, 1))\n",
        "print(\"1 XOR 0:\", XOR_gate(1, 0))\n",
        "print(\"1 XOR 1:\", XOR_gate(1, 1))\n"
      ]
    }
  ]
}